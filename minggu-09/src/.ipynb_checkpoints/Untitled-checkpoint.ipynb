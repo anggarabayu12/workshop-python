{
 "cells": [
  {
   "cell_type": "markdown",
   "metadata": {},
   "source": [
    "Anggara Bayu P 175410142"
   ]
  },
  {
   "cell_type": "markdown",
   "metadata": {},
   "source": [
    "## 12. Virtual Environments and Packages"
   ]
  },
  {
   "cell_type": "markdown",
   "metadata": {},
   "source": [
    "### 12.1. Introduction"
   ]
  },
  {
   "cell_type": "markdown",
   "metadata": {},
   "source": [
    "Aplikasi Python akan sering menggunakan paket dan modul yang tidak datang sebagai bagian dari pustaka standar. Aplikasi kadang-kadang membutuhkan versi pustaka tertentu, karena aplikasi mungkin mensyaratkan bug tertentu telah diperbaiki atau aplikasi dapat ditulis menggunakan versi usang dari antarmuka pustaka.\n",
    "\n",
    "Ini berarti tidak mungkin bagi satu instalasi Python untuk memenuhi persyaratan setiap aplikasi. Jika aplikasi A membutuhkan versi 1.0 dari modul tertentu tetapi aplikasi B membutuhkan versi 2.0, maka persyaratannya bertentangan dan menginstal versi 1.0 atau 2.0 akan membuat satu aplikasi tidak dapat berjalan.\n",
    "\n",
    "Solusi untuk masalah ini adalah membuat virtual environment, sebuah struktur direktori mandiri yang berisi instalasi Python untuk versi tertentu dari Python, serta sejumlah paket tambahan.\n",
    "\n",
    "Aplikasi yang berbeda kemudian dapat menggunakan lingkungan virtual yang berbeda. Untuk menyelesaikan contoh sebelumnya dari persyaratan yang saling bertentangan, aplikasi A dapat memiliki lingkungan virtual sendiri dengan versi 1.0 yang diinstal sementara aplikasi B memiliki lingkungan virtual lain dengan versi 2.0. Jika aplikasi B membutuhkan pustaka ditingkatkan ke versi 3.0, ini tidak akan mempengaruhi lingkungan aplikasi A."
   ]
  },
  {
   "cell_type": "markdown",
   "metadata": {},
   "source": [
    "### 12.2. Creating Virtual Environments"
   ]
  },
  {
   "cell_type": "markdown",
   "metadata": {},
   "source": [
    "Modul yang digunakan untuk membuat dan mengelola lingkungan virtual disebut venv. venv biasanya akan menginstal versi Python terbaru yang Anda miliki. Jika Anda memiliki beberapa versi Python di sistem Anda, Anda dapat memilih versi Python tertentu dengan menjalankan python3 atau versi mana pun yang Anda inginkan.\n",
    "\n",
    "Untuk membuat lingkungan virtual, tentukan direktori tempat Anda ingin meletakkannya, dan jalankan modul venv sebagai skrip dengan jalur direktori :"
   ]
  },
  {
   "cell_type": "code",
   "execution_count": null,
   "metadata": {},
   "outputs": [],
   "source": [
    "python3 -m venv tutorial-env"
   ]
  },
  {
   "cell_type": "markdown",
   "metadata": {},
   "source": [
    "Ini akan membuat direktori tutorial-env jika tidak ada, dan juga membuat direktori di dalamnya yang berisi salinan interpreter Python, pustaka standar, dan berbagai berkas pendukung.\n",
    "\n",
    "Lokasi direktori yang umum dipakai untuk lingkungan virtual adalah .venv. Nama ini membuat direktori biasanya tersembunyi di shell Anda dan dengan demikian terpencil sambil memberikan nama yang menjelaskan mengapa direktori itu ada. Ini juga mencegah bentrok dengan berkas definisi variabel lingkungan .env yang didukung beberapa peralatan."
   ]
  },
  {
   "cell_type": "markdown",
   "metadata": {},
   "source": [
    "Setelah membuat lingkungan virtual, Kita dapat mengaktifkannya.\n",
    "\n",
    "Di Windows, operasikan :"
   ]
  },
  {
   "cell_type": "code",
   "execution_count": null,
   "metadata": {},
   "outputs": [],
   "source": [
    "!tutorial-env\\Scripts\\activate.bat"
   ]
  },
  {
   "cell_type": "markdown",
   "metadata": {},
   "source": [
    "Pada Unix atau MacOS, operasikan :"
   ]
  },
  {
   "cell_type": "code",
   "execution_count": null,
   "metadata": {},
   "outputs": [],
   "source": [
    "source tutorial-env/bin/activate"
   ]
  },
  {
   "cell_type": "markdown",
   "metadata": {},
   "source": [
    "Mengaktifkan virtual environment akan mengubah prompt shell untuk menunjukkan virtual environment apa yang digunakan, dan memodifikasi environment sehingga menjalankan python akan membuat Anda mendapatkan versi dan instalasi Python tertentu."
   ]
  },
  {
   "cell_type": "markdown",
   "metadata": {},
   "source": [
    "### 12.3. Managing Packages with pip"
   ]
  },
  {
   "cell_type": "markdown",
   "metadata": {},
   "source": [
    "Anda dapat menginstal, memutakhirkan, dan menghapus paket menggunakan program yang disebut pip. Secara default pip akan menginstal paket dari Python Package Index, <https://pypi.org>."
   ]
  },
  {
   "cell_type": "code",
   "execution_count": 4,
   "metadata": {},
   "outputs": [
    {
     "name": "stdout",
     "output_type": "stream",
     "text": [
      "astronomy (0.0.1)             - Astronomy!\n",
      "catastropy (0.0dev)           - (cat)astronomy\n",
      "gastropy (0.0dev)             - (g)astronomy\n",
      "pykepler (1.0.1)              - Algorithms for positional astronomy\n",
      "astromath (1.0.1)             - Library for mathematical astronomy\n",
      "astro-scripts (0.4.0)         - Small scripts for astronomy\n",
      "intake-astro (0.1.1)          - Astronomy plugins for Intake\n",
      "celespy (0.0.5)               - Generic astronomy functions\n",
      "n2-tools (0.0.26)             - tools for astronomy data\n",
      "skyfield (1.22)               - Elegant astronomy for Python\n",
      "gary (0.1a)                   - Galactic astronomy and gravitational dynamics.\n",
      "hips (0.2)                    - Python astronomy package for HiPS\n",
      "sinistra (0.3.3)              - A collection of astronomy related tools.\n",
      "codex-africanus (0.2.4)       - Radio Astronomy Building Blocks\n",
      "gravpy (0.2.4)                - A sandbox for gravitational wave astronomy.\n",
      "acalib (0.1.3)                - Advanced Computing for Astronomy Library\n",
      "numina (0.21)                 - Astronomy data reduction library\n",
      "palpy (1.8.1)                 - PAL -- A Positional Astronomy Library\n",
      "mirapy (0.1.0)                - Python package for Deep Learning in Astronomy\n",
      "fidia (0.4rc1)                - Format Independent Data Interface for Astronomy\n",
      "PyAstronomy (0.15.0)          - A collection of astronomy related tools for Python.\n",
      "ragavi (0.3.7)                - Radio Astronomy Gain and Visibility Inspector\n",
      "pyastroschema (0.5.4)         - Standardized specifications for astronomy and astrophysics data.\n",
      "starry-beta (0.3.0)           - Analytic occultation light curves for astronomy.\n",
      "astrotoyz (0.1.4)             - Astronomy tools built on the Toyz framework\n",
      "mclearn (0.1.6)               - Active learning algorithms with application in astronomy.\n",
      "gammapy (0.17)                - A Python package for gamma-ray astronomy\n",
      "experimentsLogReader (2.2.2)  - Log file reader for Radio Astronomy\n",
      "starry (1.0.0)                - Analytic occultation light curves for astronomy.\n",
      "rainbow-connection (0.0.3)    - Pedagogical tools for light and color in astronomy.\n",
      "astropy (4.0.1.post1)         - Community-developed python astronomy tools\n",
      "astrodbkit (0.6.6)            - Astronomy database management using SQL and Python\n",
      "MPoL (0.0.4)                  - Regularized Maximum Likelihood Imaging for Radio Astronomy\n",
      "pyzpace (0.0)                 - Zach Pace's astronomy-related python tools\n",
      "python-casacore (3.3.1)       - A wrapper around CASACORE, the radio astronomy library\n",
      "tdd (0.0.4)                   - repo for handling Time Domain Astronomy Data\n",
      "vaex-astro (0.7.0)            - Astronomy related transformations and FITS file support\n",
      "adc-streaming (0.3.1)         - Astronomy Data Commons streaming client libraries\n",
      "sbpy (0.2.2)                  - A Python Module for Small-Body Planetary Astronomy\n",
      "rascil (0.1.5)                - Radio Astronomy Simulation, Calibration, and Imaging Library\n",
      "astroML (0.4.1)               - tools for machine learning and data mining in Astronomy\n",
      "DDFacet (0.5.3.1)             - Facet-based radio astronomy continuum imager\n",
      "astroobs (1.4.5)              - Provides astronomy ephemeris to plan telescope observations\n",
      "cadcdata (1.3.1)              - Client for accessing data at the Canadian Astronomy Data Centre\n",
      "simspec-lib (2.4.4.0)         - SimSpec library. SIMplified SPECtrum reduction package for astronomy.\n",
      "katsdpimager (1.3)            - GPU-accelerated radio-astronomy spectral line imager\n",
      "simspeclib (2.3.0.3)          - SimSpec library. SIMplified SPECtrum reduction package for astronomy.\n",
      "drasticali (0.1.1)            - Diverse Radio Astronomy Software Tools for Imaging and Calibration\n",
      "cadcetrans (0.9.2)            - Client for transferring data Canadian Astronomy Data Centre\n",
      "novas (3.1.1.5)               - The United States Naval Observatory NOVAS astronomy library\n",
      "cadctap (0.9.4.3)             - Client for accessing data at the Canadian Astronomy Data Centre\n",
      "astrocats (0.3.37)            - Package for downloading, analyzing, and constructing open astronomy catalogs.\n",
      "simspec (1.11.0)              - User interface for SimSpec. SIMplified SPECtrum reduction package for astronomy.\n",
      "cygrid (1.0.1)                - Cygrid is a cython-powered convolution-based gridding module for astronomy\n",
      "SWHT (0.1.2)                  - Spherical Wave Harmonic Transform for radio astronomy visibility data\n",
      "astromodels (1.3.0)           - Astromodels contains models to be used in likelihood or Bayesian analysis in astronomy\n",
      "histastro (0.0.2)             - A Python package for historical-astronomy calculations of Sun, Moon and planets\n",
      "astrobase (0.5.2)             - Python modules and scripts useful for variable star work in astronomy.\n",
      "f311 (18.3.1.0)               - Astronomy-related API, command-line tools, and windowed applications\n",
      "astrosql (1.0.1)              - SQL database introspection and methods in Python to access existing astronomy databases.\n",
      "monashspa (1.4.1)             - Library of useful data analysis tools for Monash University Physics & Astronomy students\n",
      "nmmn (0.8.9)                  - Miscellaneous methods for astronomy, dealing with arrays, statistical distributions and computing goodness-of-fit\n",
      "zogyp (1.6.3)                 - A parallel version of ZOGY image subtraction for astronomy, with Proper Co-Addition and Image alignment\n",
      "astropy-stark (1.1.9)         - random-custom astronomy functions including making fake accretion disk light curves\n",
      "thefriendlystars (0.0.2)      - Python toolkit for managing catalogs of stars including tools for querying popular astronomy archives.\n",
      "astrocalc (0.4.1)             - perform common astronomy-related calculations, conversions and measurements within python scripts or from the command-line\n",
      "Barak (0.3.2)                 - A set of astronomy-related routines for generating Voigt profiles from atomic data, reading and writing data, working with SEDs, passbands and dust extinction laws.\n"
     ]
    }
   ],
   "source": [
    "!pip search astronomy"
   ]
  },
  {
   "cell_type": "markdown",
   "metadata": {},
   "source": [
    "pip memiliki sejumlah sub-perintah: \"search\", \"install\", \"uninstall\", \"freeze\", dll."
   ]
  },
  {
   "cell_type": "markdown",
   "metadata": {},
   "source": [
    "Kita dapat menginstal versi terbaru dari suatu paket dengan menyebutkan nama suatu paket :"
   ]
  },
  {
   "cell_type": "code",
   "execution_count": null,
   "metadata": {},
   "outputs": [],
   "source": [
    "!pip install novas"
   ]
  },
  {
   "cell_type": "markdown",
   "metadata": {},
   "source": [
    "Kita juga dapat menginstal versi spesifik suatu paket dengan memberikan nama paket diikuti dengan == dan nomor versi :"
   ]
  },
  {
   "cell_type": "code",
   "execution_count": 6,
   "metadata": {},
   "outputs": [
    {
     "name": "stdout",
     "output_type": "stream",
     "text": [
      "Collecting requests==2.6.0\n",
      "  Downloading requests-2.6.0-py2.py3-none-any.whl (469 kB)\n",
      "Installing collected packages: requests\n",
      "Successfully installed requests-2.6.0\n"
     ]
    },
    {
     "name": "stderr",
     "output_type": "stream",
     "text": [
      "WARNING: You are using pip version 20.1; however, version 20.1.1 is available.\n",
      "You should consider upgrading via the 'c:\\users\\asus\\appdata\\local\\programs\\python\\python38\\python.exe -m pip install --upgrade pip' command.\n"
     ]
    }
   ],
   "source": [
    "!pip install requests==2.6.0"
   ]
  },
  {
   "cell_type": "markdown",
   "metadata": {},
   "source": [
    "Jika Kita menjalankan kembali perintah ini, pip akan melihat bahwa versi yang diminta sudah diinstal dan tidak melakukan apa-apa. Kita dapat memberikan nomor versi yang berbeda untuk mendapatkan versi itu, atau Kita dapat menjalankan pip install --upgrade untuk meningkatkan paket ke versi terbaru:"
   ]
  },
  {
   "cell_type": "code",
   "execution_count": 7,
   "metadata": {},
   "outputs": [
    {
     "name": "stdout",
     "output_type": "stream",
     "text": [
      "Collecting requests\n",
      "  Downloading requests-2.23.0-py2.py3-none-any.whl (58 kB)\n",
      "Collecting certifi>=2017.4.17\n",
      "  Downloading certifi-2020.4.5.2-py2.py3-none-any.whl (157 kB)\n",
      "Collecting urllib3!=1.25.0,!=1.25.1,<1.26,>=1.21.1\n",
      "  Downloading urllib3-1.25.9-py2.py3-none-any.whl (126 kB)\n",
      "Collecting idna<3,>=2.5\n",
      "  Downloading idna-2.9-py2.py3-none-any.whl (58 kB)\n",
      "Collecting chardet<4,>=3.0.2\n",
      "  Downloading chardet-3.0.4-py2.py3-none-any.whl (133 kB)\n",
      "Installing collected packages: certifi, urllib3, idna, chardet, requests\n",
      "  Attempting uninstall: requests\n",
      "    Found existing installation: requests 2.6.0\n",
      "    Uninstalling requests-2.6.0:\n",
      "      Successfully uninstalled requests-2.6.0\n",
      "Successfully installed certifi-2020.4.5.2 chardet-3.0.4 idna-2.9 requests-2.23.0 urllib3-1.25.9\n"
     ]
    },
    {
     "name": "stderr",
     "output_type": "stream",
     "text": [
      "WARNING: You are using pip version 20.1; however, version 20.1.1 is available.\n",
      "You should consider upgrading via the 'c:\\users\\asus\\appdata\\local\\programs\\python\\python38\\python.exe -m pip install --upgrade pip' command.\n"
     ]
    }
   ],
   "source": [
    "!pip install --upgrade requests"
   ]
  },
  {
   "cell_type": "markdown",
   "metadata": {},
   "source": [
    "pip uninstall diikuti oleh satu atau beberapa nama paket akan menghapus paket-paket dari lingkungan virtual."
   ]
  },
  {
   "cell_type": "markdown",
   "metadata": {},
   "source": [
    "pip show akan menampilkan informasi tentang paket tertentu :"
   ]
  },
  {
   "cell_type": "code",
   "execution_count": 8,
   "metadata": {},
   "outputs": [
    {
     "name": "stdout",
     "output_type": "stream",
     "text": [
      "Name: requests\n",
      "Version: 2.23.0\n",
      "Summary: Python HTTP for Humans.\n",
      "Home-page: https://requests.readthedocs.io\n",
      "Author: Kenneth Reitz\n",
      "Author-email: me@kennethreitz.org\n",
      "License: Apache 2.0\n",
      "Location: c:\\users\\asus\\appdata\\local\\programs\\python\\python38\\lib\\site-packages\n",
      "Requires: idna, urllib3, chardet, certifi\n",
      "Required-by: \n"
     ]
    }
   ],
   "source": [
    "!pip show requests"
   ]
  },
  {
   "cell_type": "markdown",
   "metadata": {},
   "source": [
    "pip list akan menampilkan semua paket yang diinstal di lingkungan virtual :"
   ]
  },
  {
   "cell_type": "code",
   "execution_count": 10,
   "metadata": {},
   "outputs": [
    {
     "name": "stdout",
     "output_type": "stream",
     "text": [
      "Package            Version\n",
      "------------------ ----------\n",
      "appdirs            1.4.4\n",
      "attrs              19.3.0\n",
      "backcall           0.1.0\n",
      "bleach             3.1.5\n",
      "certifi            2020.4.5.2\n",
      "chardet            3.0.4\n",
      "colorama           0.4.3\n",
      "decorator          4.4.2\n",
      "defusedxml         0.6.0\n",
      "distlib            0.3.0\n",
      "entrypoints        0.3\n",
      "filelock           3.0.12\n",
      "idna               2.9\n",
      "ipykernel          5.2.1\n",
      "ipython            7.14.0\n",
      "ipython-genutils   0.2.0\n",
      "ipywidgets         7.5.1\n",
      "jedi               0.17.0\n",
      "Jinja2             2.11.2\n",
      "jsonschema         3.2.0\n",
      "jupyter            1.0.0\n",
      "jupyter-client     6.1.3\n",
      "jupyter-console    6.1.0\n",
      "jupyter-core       4.6.3\n",
      "MarkupSafe         1.1.1\n",
      "mistune            0.8.4\n",
      "nbconvert          5.6.1\n",
      "nbformat           5.0.6\n",
      "notebook           6.0.3\n",
      "packaging          20.4\n",
      "pandocfilters      1.4.2\n",
      "parso              0.7.0\n",
      "pickleshare        0.7.5\n",
      "pip                20.1\n",
      "prometheus-client  0.7.1\n",
      "prompt-toolkit     3.0.5\n",
      "Pygments           2.6.1\n",
      "pyparsing          2.4.7\n",
      "pyrsistent         0.16.0\n",
      "python-dateutil    2.8.1\n",
      "pywin32            227\n",
      "pywinpty           0.5.7\n",
      "pyzmq              19.0.1\n",
      "qtconsole          4.7.4\n",
      "QtPy               1.9.0\n",
      "requests           2.23.0\n",
      "Send2Trash         1.5.0\n",
      "setuptools         41.2.0\n",
      "six                1.14.0\n",
      "terminado          0.8.3\n",
      "testpath           0.4.4\n",
      "tornado            6.0.4\n",
      "traitlets          4.3.3\n",
      "urllib3            1.25.9\n",
      "virtualenv         20.0.21\n",
      "wcwidth            0.1.9\n",
      "webencodings       0.5.1\n",
      "widgetsnbextension 3.5.1\n"
     ]
    },
    {
     "name": "stderr",
     "output_type": "stream",
     "text": [
      "WARNING: You are using pip version 20.1; however, version 20.1.1 is available.\n",
      "You should consider upgrading via the 'c:\\users\\asus\\appdata\\local\\programs\\python\\python38\\python.exe -m pip install --upgrade pip' command.\n"
     ]
    }
   ],
   "source": [
    "!pip list"
   ]
  },
  {
   "cell_type": "markdown",
   "metadata": {},
   "source": [
    "pip freeze akan menghasilkan daftar yang sama dari paket yang diinstal, tetapi keluarannya menggunakan format yang diharapkan oleh pip install. Sebuah konvensi yang umum digunakan adalah meletakkan daftar ini dalam file requirements.txt :"
   ]
  },
  {
   "cell_type": "code",
   "execution_count": 11,
   "metadata": {},
   "outputs": [],
   "source": [
    "!pip freeze > requirements.txt"
   ]
  },
  {
   "cell_type": "code",
   "execution_count": null,
   "metadata": {},
   "outputs": [],
   "source": [
    "cat requirements.txt"
   ]
  },
  {
   "cell_type": "markdown",
   "metadata": {},
   "source": [
    "requirements.txt kemudian dapat dikirimkan atau commit ke sistem kontrol versi dan dikirim sebagai bagian dari aplikasi. Pengguna kemudian dapat menginstal semua paket yang diperlukan dengan install -r :"
   ]
  },
  {
   "cell_type": "code",
   "execution_count": 13,
   "metadata": {},
   "outputs": [
    {
     "name": "stdout",
     "output_type": "stream",
     "text": [
      "Requirement already satisfied: appdirs==1.4.4 in c:\\users\\asus\\appdata\\local\\programs\\python\\python38\\lib\\site-packages (from -r requirements.txt (line 1)) (1.4.4)\n",
      "Requirement already satisfied: attrs==19.3.0 in c:\\users\\asus\\appdata\\local\\programs\\python\\python38\\lib\\site-packages (from -r requirements.txt (line 2)) (19.3.0)\n",
      "Requirement already satisfied: backcall==0.1.0 in c:\\users\\asus\\appdata\\local\\programs\\python\\python38\\lib\\site-packages (from -r requirements.txt (line 3)) (0.1.0)\n",
      "Requirement already satisfied: bleach==3.1.5 in c:\\users\\asus\\appdata\\local\\programs\\python\\python38\\lib\\site-packages (from -r requirements.txt (line 4)) (3.1.5)\n",
      "Requirement already satisfied: certifi==2020.4.5.2 in c:\\users\\asus\\appdata\\local\\programs\\python\\python38\\lib\\site-packages (from -r requirements.txt (line 5)) (2020.4.5.2)\n",
      "Requirement already satisfied: chardet==3.0.4 in c:\\users\\asus\\appdata\\local\\programs\\python\\python38\\lib\\site-packages (from -r requirements.txt (line 6)) (3.0.4)\n",
      "Requirement already satisfied: colorama==0.4.3 in c:\\users\\asus\\appdata\\local\\programs\\python\\python38\\lib\\site-packages (from -r requirements.txt (line 7)) (0.4.3)\n",
      "Requirement already satisfied: decorator==4.4.2 in c:\\users\\asus\\appdata\\local\\programs\\python\\python38\\lib\\site-packages (from -r requirements.txt (line 8)) (4.4.2)\n",
      "Requirement already satisfied: defusedxml==0.6.0 in c:\\users\\asus\\appdata\\local\\programs\\python\\python38\\lib\\site-packages (from -r requirements.txt (line 9)) (0.6.0)\n",
      "Requirement already satisfied: distlib==0.3.0 in c:\\users\\asus\\appdata\\local\\programs\\python\\python38\\lib\\site-packages (from -r requirements.txt (line 10)) (0.3.0)\n",
      "Requirement already satisfied: entrypoints==0.3 in c:\\users\\asus\\appdata\\local\\programs\\python\\python38\\lib\\site-packages (from -r requirements.txt (line 11)) (0.3)\n",
      "Requirement already satisfied: filelock==3.0.12 in c:\\users\\asus\\appdata\\local\\programs\\python\\python38\\lib\\site-packages (from -r requirements.txt (line 12)) (3.0.12)\n",
      "Requirement already satisfied: idna==2.9 in c:\\users\\asus\\appdata\\local\\programs\\python\\python38\\lib\\site-packages (from -r requirements.txt (line 13)) (2.9)\n",
      "Requirement already satisfied: ipykernel==5.2.1 in c:\\users\\asus\\appdata\\local\\programs\\python\\python38\\lib\\site-packages (from -r requirements.txt (line 14)) (5.2.1)\n",
      "Requirement already satisfied: ipython==7.14.0 in c:\\users\\asus\\appdata\\local\\programs\\python\\python38\\lib\\site-packages (from -r requirements.txt (line 15)) (7.14.0)\n",
      "Requirement already satisfied: ipython-genutils==0.2.0 in c:\\users\\asus\\appdata\\local\\programs\\python\\python38\\lib\\site-packages (from -r requirements.txt (line 16)) (0.2.0)\n",
      "Requirement already satisfied: ipywidgets==7.5.1 in c:\\users\\asus\\appdata\\local\\programs\\python\\python38\\lib\\site-packages (from -r requirements.txt (line 17)) (7.5.1)\n",
      "Requirement already satisfied: jedi==0.17.0 in c:\\users\\asus\\appdata\\local\\programs\\python\\python38\\lib\\site-packages (from -r requirements.txt (line 18)) (0.17.0)\n",
      "Requirement already satisfied: Jinja2==2.11.2 in c:\\users\\asus\\appdata\\local\\programs\\python\\python38\\lib\\site-packages (from -r requirements.txt (line 19)) (2.11.2)\n",
      "Requirement already satisfied: jsonschema==3.2.0 in c:\\users\\asus\\appdata\\local\\programs\\python\\python38\\lib\\site-packages (from -r requirements.txt (line 20)) (3.2.0)\n",
      "Requirement already satisfied: jupyter==1.0.0 in c:\\users\\asus\\appdata\\local\\programs\\python\\python38\\lib\\site-packages (from -r requirements.txt (line 21)) (1.0.0)\n",
      "Requirement already satisfied: jupyter-client==6.1.3 in c:\\users\\asus\\appdata\\local\\programs\\python\\python38\\lib\\site-packages (from -r requirements.txt (line 22)) (6.1.3)\n",
      "Requirement already satisfied: jupyter-console==6.1.0 in c:\\users\\asus\\appdata\\local\\programs\\python\\python38\\lib\\site-packages (from -r requirements.txt (line 23)) (6.1.0)\n",
      "Requirement already satisfied: jupyter-core==4.6.3 in c:\\users\\asus\\appdata\\local\\programs\\python\\python38\\lib\\site-packages (from -r requirements.txt (line 24)) (4.6.3)\n",
      "Requirement already satisfied: MarkupSafe==1.1.1 in c:\\users\\asus\\appdata\\local\\programs\\python\\python38\\lib\\site-packages (from -r requirements.txt (line 25)) (1.1.1)\n",
      "Requirement already satisfied: mistune==0.8.4 in c:\\users\\asus\\appdata\\local\\programs\\python\\python38\\lib\\site-packages (from -r requirements.txt (line 26)) (0.8.4)\n",
      "Requirement already satisfied: nbconvert==5.6.1 in c:\\users\\asus\\appdata\\local\\programs\\python\\python38\\lib\\site-packages (from -r requirements.txt (line 27)) (5.6.1)\n",
      "Requirement already satisfied: nbformat==5.0.6 in c:\\users\\asus\\appdata\\local\\programs\\python\\python38\\lib\\site-packages (from -r requirements.txt (line 28)) (5.0.6)\n",
      "Requirement already satisfied: notebook==6.0.3 in c:\\users\\asus\\appdata\\local\\programs\\python\\python38\\lib\\site-packages (from -r requirements.txt (line 29)) (6.0.3)\n",
      "Requirement already satisfied: packaging==20.4 in c:\\users\\asus\\appdata\\local\\programs\\python\\python38\\lib\\site-packages (from -r requirements.txt (line 30)) (20.4)\n",
      "Requirement already satisfied: pandocfilters==1.4.2 in c:\\users\\asus\\appdata\\local\\programs\\python\\python38\\lib\\site-packages (from -r requirements.txt (line 31)) (1.4.2)\n",
      "Requirement already satisfied: parso==0.7.0 in c:\\users\\asus\\appdata\\local\\programs\\python\\python38\\lib\\site-packages (from -r requirements.txt (line 32)) (0.7.0)\n",
      "Requirement already satisfied: pickleshare==0.7.5 in c:\\users\\asus\\appdata\\local\\programs\\python\\python38\\lib\\site-packages (from -r requirements.txt (line 33)) (0.7.5)\n",
      "Requirement already satisfied: prometheus-client==0.7.1 in c:\\users\\asus\\appdata\\local\\programs\\python\\python38\\lib\\site-packages (from -r requirements.txt (line 34)) (0.7.1)\n",
      "Requirement already satisfied: prompt-toolkit==3.0.5 in c:\\users\\asus\\appdata\\local\\programs\\python\\python38\\lib\\site-packages (from -r requirements.txt (line 35)) (3.0.5)\n",
      "Requirement already satisfied: Pygments==2.6.1 in c:\\users\\asus\\appdata\\local\\programs\\python\\python38\\lib\\site-packages (from -r requirements.txt (line 36)) (2.6.1)\n",
      "Requirement already satisfied: pyparsing==2.4.7 in c:\\users\\asus\\appdata\\local\\programs\\python\\python38\\lib\\site-packages (from -r requirements.txt (line 37)) (2.4.7)\n",
      "Requirement already satisfied: pyrsistent==0.16.0 in c:\\users\\asus\\appdata\\local\\programs\\python\\python38\\lib\\site-packages (from -r requirements.txt (line 38)) (0.16.0)\n",
      "Requirement already satisfied: python-dateutil==2.8.1 in c:\\users\\asus\\appdata\\local\\programs\\python\\python38\\lib\\site-packages (from -r requirements.txt (line 39)) (2.8.1)\n",
      "Requirement already satisfied: pywin32==227 in c:\\users\\asus\\appdata\\local\\programs\\python\\python38\\lib\\site-packages (from -r requirements.txt (line 40)) (227)\n",
      "Requirement already satisfied: pywinpty==0.5.7 in c:\\users\\asus\\appdata\\local\\programs\\python\\python38\\lib\\site-packages (from -r requirements.txt (line 41)) (0.5.7)\n",
      "Requirement already satisfied: pyzmq==19.0.1 in c:\\users\\asus\\appdata\\local\\programs\\python\\python38\\lib\\site-packages (from -r requirements.txt (line 42)) (19.0.1)\n",
      "Requirement already satisfied: qtconsole==4.7.4 in c:\\users\\asus\\appdata\\local\\programs\\python\\python38\\lib\\site-packages (from -r requirements.txt (line 43)) (4.7.4)\n",
      "Requirement already satisfied: QtPy==1.9.0 in c:\\users\\asus\\appdata\\local\\programs\\python\\python38\\lib\\site-packages (from -r requirements.txt (line 44)) (1.9.0)\n",
      "Requirement already satisfied: requests==2.23.0 in c:\\users\\asus\\appdata\\local\\programs\\python\\python38\\lib\\site-packages (from -r requirements.txt (line 45)) (2.23.0)"
     ]
    },
    {
     "name": "stderr",
     "output_type": "stream",
     "text": [
      "WARNING: You are using pip version 20.1; however, version 20.1.1 is available.\n",
      "You should consider upgrading via the 'c:\\users\\asus\\appdata\\local\\programs\\python\\python38\\python.exe -m pip install --upgrade pip' command.\n"
     ]
    },
    {
     "name": "stdout",
     "output_type": "stream",
     "text": [
      "\n",
      "Requirement already satisfied: Send2Trash==1.5.0 in c:\\users\\asus\\appdata\\local\\programs\\python\\python38\\lib\\site-packages (from -r requirements.txt (line 46)) (1.5.0)\n",
      "Requirement already satisfied: six==1.14.0 in c:\\users\\asus\\appdata\\local\\programs\\python\\python38\\lib\\site-packages (from -r requirements.txt (line 47)) (1.14.0)\n",
      "Requirement already satisfied: terminado==0.8.3 in c:\\users\\asus\\appdata\\local\\programs\\python\\python38\\lib\\site-packages (from -r requirements.txt (line 48)) (0.8.3)\n",
      "Requirement already satisfied: testpath==0.4.4 in c:\\users\\asus\\appdata\\local\\programs\\python\\python38\\lib\\site-packages (from -r requirements.txt (line 49)) (0.4.4)\n",
      "Requirement already satisfied: tornado==6.0.4 in c:\\users\\asus\\appdata\\local\\programs\\python\\python38\\lib\\site-packages (from -r requirements.txt (line 50)) (6.0.4)\n",
      "Requirement already satisfied: traitlets==4.3.3 in c:\\users\\asus\\appdata\\local\\programs\\python\\python38\\lib\\site-packages (from -r requirements.txt (line 51)) (4.3.3)\n",
      "Requirement already satisfied: urllib3==1.25.9 in c:\\users\\asus\\appdata\\local\\programs\\python\\python38\\lib\\site-packages (from -r requirements.txt (line 52)) (1.25.9)\n",
      "Requirement already satisfied: virtualenv==20.0.21 in c:\\users\\asus\\appdata\\local\\programs\\python\\python38\\lib\\site-packages (from -r requirements.txt (line 53)) (20.0.21)\n",
      "Requirement already satisfied: wcwidth==0.1.9 in c:\\users\\asus\\appdata\\local\\programs\\python\\python38\\lib\\site-packages (from -r requirements.txt (line 54)) (0.1.9)\n",
      "Requirement already satisfied: webencodings==0.5.1 in c:\\users\\asus\\appdata\\local\\programs\\python\\python38\\lib\\site-packages (from -r requirements.txt (line 55)) (0.5.1)\n",
      "Requirement already satisfied: widgetsnbextension==3.5.1 in c:\\users\\asus\\appdata\\local\\programs\\python\\python38\\lib\\site-packages (from -r requirements.txt (line 56)) (3.5.1)\n",
      "Requirement already satisfied: setuptools>=18.5 in c:\\users\\asus\\appdata\\local\\programs\\python\\python38\\lib\\site-packages (from ipython==7.14.0->-r requirements.txt (line 15)) (41.2.0)\n",
      "Could not build wheels for appdirs, since package 'wheel' is not installed.\n",
      "Could not build wheels for attrs, since package 'wheel' is not installed.\n",
      "Could not build wheels for backcall, since package 'wheel' is not installed.\n",
      "Could not build wheels for bleach, since package 'wheel' is not installed.\n",
      "Could not build wheels for certifi, since package 'wheel' is not installed.\n",
      "Could not build wheels for chardet, since package 'wheel' is not installed.\n",
      "Could not build wheels for colorama, since package 'wheel' is not installed.\n",
      "Could not build wheels for decorator, since package 'wheel' is not installed.\n",
      "Could not build wheels for defusedxml, since package 'wheel' is not installed.\n",
      "Could not build wheels for distlib, since package 'wheel' is not installed.\n",
      "Could not build wheels for entrypoints, since package 'wheel' is not installed.\n",
      "Could not build wheels for filelock, since package 'wheel' is not installed.\n",
      "Could not build wheels for idna, since package 'wheel' is not installed.\n",
      "Could not build wheels for ipykernel, since package 'wheel' is not installed.\n",
      "Could not build wheels for ipython, since package 'wheel' is not installed.\n",
      "Could not build wheels for ipython-genutils, since package 'wheel' is not installed.\n",
      "Could not build wheels for ipywidgets, since package 'wheel' is not installed.\n",
      "Could not build wheels for jedi, since package 'wheel' is not installed.\n",
      "Could not build wheels for Jinja2, since package 'wheel' is not installed.\n",
      "Could not build wheels for jsonschema, since package 'wheel' is not installed.\n",
      "Could not build wheels for jupyter, since package 'wheel' is not installed.\n",
      "Could not build wheels for jupyter-client, since package 'wheel' is not installed.\n",
      "Could not build wheels for jupyter-console, since package 'wheel' is not installed.\n",
      "Could not build wheels for jupyter-core, since package 'wheel' is not installed.\n",
      "Could not build wheels for MarkupSafe, since package 'wheel' is not installed.\n",
      "Could not build wheels for mistune, since package 'wheel' is not installed.\n",
      "Could not build wheels for nbconvert, since package 'wheel' is not installed.\n",
      "Could not build wheels for nbformat, since package 'wheel' is not installed.\n",
      "Could not build wheels for notebook, since package 'wheel' is not installed.\n",
      "Could not build wheels for packaging, since package 'wheel' is not installed.\n",
      "Could not build wheels for pandocfilters, since package 'wheel' is not installed.\n",
      "Could not build wheels for parso, since package 'wheel' is not installed.\n",
      "Could not build wheels for pickleshare, since package 'wheel' is not installed.\n",
      "Could not build wheels for prometheus-client, since package 'wheel' is not installed.\n",
      "Could not build wheels for prompt-toolkit, since package 'wheel' is not installed.\n",
      "Could not build wheels for Pygments, since package 'wheel' is not installed.\n",
      "Could not build wheels for pyparsing, since package 'wheel' is not installed.\n",
      "Could not build wheels for pyrsistent, since package 'wheel' is not installed.\n",
      "Could not build wheels for python-dateutil, since package 'wheel' is not installed.\n",
      "Could not build wheels for pywin32, since package 'wheel' is not installed.\n",
      "Could not build wheels for pywinpty, since package 'wheel' is not installed.\n",
      "Could not build wheels for pyzmq, since package 'wheel' is not installed.\n",
      "Could not build wheels for qtconsole, since package 'wheel' is not installed.\n",
      "Could not build wheels for QtPy, since package 'wheel' is not installed.\n",
      "Could not build wheels for requests, since package 'wheel' is not installed.\n",
      "Could not build wheels for Send2Trash, since package 'wheel' is not installed.\n",
      "Could not build wheels for six, since package 'wheel' is not installed.\n",
      "Could not build wheels for terminado, since package 'wheel' is not installed.\n",
      "Could not build wheels for testpath, since package 'wheel' is not installed.\n",
      "Could not build wheels for tornado, since package 'wheel' is not installed.\n",
      "Could not build wheels for traitlets, since package 'wheel' is not installed.\n",
      "Could not build wheels for urllib3, since package 'wheel' is not installed.\n",
      "Could not build wheels for virtualenv, since package 'wheel' is not installed.\n",
      "Could not build wheels for wcwidth, since package 'wheel' is not installed.\n",
      "Could not build wheels for webencodings, since package 'wheel' is not installed.\n",
      "Could not build wheels for widgetsnbextension, since package 'wheel' is not installed.\n",
      "Could not build wheels for setuptools, since package 'wheel' is not installed.\n"
     ]
    }
   ],
   "source": [
    "!pip install -r requirements.txt"
   ]
  }
 ],
 "metadata": {
  "kernelspec": {
   "display_name": "Python 3",
   "language": "python",
   "name": "python3"
  },
  "language_info": {
   "codemirror_mode": {
    "name": "ipython",
    "version": 3
   },
   "file_extension": ".py",
   "mimetype": "text/x-python",
   "name": "python",
   "nbconvert_exporter": "python",
   "pygments_lexer": "ipython3",
   "version": "3.8.3"
  }
 },
 "nbformat": 4,
 "nbformat_minor": 4
}
